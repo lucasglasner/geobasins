{
 "cells": [
  {
   "cell_type": "code",
   "execution_count": 2,
   "metadata": {},
   "outputs": [],
   "source": [
    "\"\"\"\n",
    "* @ Author: Lucas Glasner (lgvivanco96@gmail.com)\n",
    "* @ Create Time: 1969-12-31 21:00:00\n",
    "* @ Modified by: Lucas Glasner,\n",
    "* @ Modified time: 2024-01-19 15:43:04\n",
    "* @ Description:\n",
    "        Routines for the design of flood hydrographs based on DGA standard \n",
    "        methods: DGA-AC, Verni-King. \n",
    "* @ Dependencies:\n",
    "*/\n",
    "\"\"\"\n",
    "\n",
    "import pandas as pd\n",
    "import numpy as np\n",
    "import scipy.signal as sg\n",
    "import time\n",
    "import tqdm\n",
    "\n",
    "import xarray as xr\n",
    "import os\n",
    "\n",
    "from src.infiltration import CN_correction\n",
    "from src.misc import to_numeric"
   ]
  },
  {
   "cell_type": "code",
   "execution_count": null,
   "metadata": {},
   "outputs": [],
   "source": []
  }
 ],
 "metadata": {
  "kernelspec": {
   "display_name": "river",
   "language": "python",
   "name": "python3"
  },
  "language_info": {
   "codemirror_mode": {
    "name": "ipython",
    "version": 3
   },
   "file_extension": ".py",
   "mimetype": "text/x-python",
   "name": "python",
   "nbconvert_exporter": "python",
   "pygments_lexer": "ipython3",
   "version": "3.11.7"
  }
 },
 "nbformat": 4,
 "nbformat_minor": 2
}
